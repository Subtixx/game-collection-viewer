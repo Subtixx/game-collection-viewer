{
 "cells": [
  {
   "cell_type": "code",
   "execution_count": null,
   "metadata": {
    "dotnet_interactive": {
     "language": "csharp"
    },
    "vscode": {
     "languageId": "dotnet-interactive.csharp"
    }
   },
   "outputs": [
    {
     "data": {
      "text/html": [
       "<div><div></div><div></div><div><strong>Installed Packages</strong><ul><li><span>Newtonsoft.Json, 13.0.1</span></li></ul></div></div>"
      ]
     },
     "metadata": {},
     "output_type": "display_data"
    }
   ],
   "source": [
    "#r \"nuget: Newtonsoft.Json, 13.0.1\""
   ]
  },
  {
   "cell_type": "code",
   "execution_count": null,
   "metadata": {
    "dotnet_interactive": {
     "language": "csharp"
    },
    "vscode": {
     "languageId": "dotnet-interactive.csharp"
    }
   },
   "outputs": [],
   "source": [
    "using Newtonsoft.Json;\n",
    "using System.Text.RegularExpressions;\n",
    "\n",
    "class Game {\n",
    "    public string Name;\n",
    "    public string Cover;\n",
    "}\n",
    "\n",
    "class Console {\n",
    "    public string Name;\n",
    "    public List<Game> Games;\n",
    "}\n",
    "\n",
    "class ConsoleProducer {\n",
    "    public string Name;\n",
    "    public List<Console> Consoles;\n",
    "}\n",
    "\n",
    "var lines = System.IO.File.ReadAllLines(@\"E:\\Projects\\my_collection\\LIST.md\");\n",
    "\n",
    "var gameStart = false;\n",
    "var gameName = \"\";\n",
    "var gameCover = \"\";\n",
    "\n",
    "var gameConsole = \"\";\n",
    "var gameConsoleMaker = \"\";\n",
    "\n",
    "var consoleProducers = new List<ConsoleProducer>();\n",
    "foreach(var line in lines)\n",
    "{\n",
    "    if(line.StartsWith(\"## \"))\n",
    "        gameConsole = line.Substring(3);\n",
    "    if(line.StartsWith(\"# \"))\n",
    "        gameConsoleMaker = line.Substring(2);\n",
    "\n",
    "    if(!gameStart && line.StartsWith(\"### \"))\n",
    "    {\n",
    "        gameName = line.Substring(4);\n",
    "        gameStart = true;\n",
    "    }else if(gameStart){\n",
    "        if(line.StartsWith(\"![](\"))\n",
    "        {\n",
    "            var cover = line.Substring(4, line.Length - 5);\n",
    "            gameCover = cover;\n",
    "            gameStart = false;\n",
    "\n",
    "            // Download cover from http\n",
    "            var gameFileName = Regex.Replace(gameName, @\"[^\\w\\.@-]\", \"_\");\n",
    "            var gameConsoleFolderName = Regex.Replace(gameConsole, @\"[^\\w\\.@-]\", \"_\");\n",
    "            var coverFileName = gameFileName + \".jpg\";\n",
    "            if(!System.IO.Directory.Exists(@\"E:\\Projects\\my_collection\\covers\\\"+gameConsoleFolderName))\n",
    "                System.IO.Directory.CreateDirectory(@\"E:\\Projects\\my_collection\\covers\\\"+gameConsoleFolderName);\n",
    "\n",
    "            var coverFile = System.IO.Path.Combine(@\"E:\\Projects\\my_collection\\covers\\\"+gameConsoleFolderName, coverFileName);\n",
    "            if(!System.IO.File.Exists(coverFile))\n",
    "            {\n",
    "                try\n",
    "                {\n",
    "                    using(var wc = new System.Net.WebClient())\n",
    "                    {\n",
    "                        wc.DownloadFile(gameCover, coverFile);\n",
    "                    }\n",
    "                }\n",
    "                catch(System.Exception ex)\n",
    "                {\n",
    "                    System.IO.File.WriteAllText(coverFile, \"\");\n",
    "                }\n",
    "            }\n",
    "\n",
    "            ConsoleProducer consoleProducer = null;\n",
    "            if(!consoleProducers.Any(c => c.Name == gameConsoleMaker))\n",
    "            {\n",
    "                consoleProducer = new ConsoleProducer();\n",
    "                consoleProducer.Name = gameConsoleMaker;\n",
    "                consoleProducer.Consoles = new List<Console>();\n",
    "                consoleProducers.Add(consoleProducer);\n",
    "            }else{\n",
    "                consoleProducer = consoleProducers.First(c => c.Name == gameConsoleMaker);\n",
    "            }\n",
    "\n",
    "            Console console = null;\n",
    "            if(consoleProducer.Consoles.Count == 0 || consoleProducer.Consoles.Find(c => c.Name == gameConsole) == null)\n",
    "            {\n",
    "                console = new Console();\n",
    "                console.Name = gameConsole;\n",
    "                console.Games = new List<Game>();\n",
    "                consoleProducer.Consoles.Add(console);\n",
    "            }else{\n",
    "                console = consoleProducer.Consoles.Find(c => c.Name == gameConsole);\n",
    "            }\n",
    "\n",
    "            console.Games.Add(new Game {\n",
    "                Name = gameName,\n",
    "                Cover = gameConsoleFolderName + \"/\" + coverFileName\n",
    "            });\n",
    "        }\n",
    "    }\n",
    "}\n",
    "\n",
    "// Convert to JSON file\n",
    "var json = JsonConvert.SerializeObject(consoleProducers);\n",
    "json = Regex.Replace(json, @\"\\'\", \"\\\\'\");\n",
    "System.IO.File.Delete(@\"E:\\Projects\\my_collection\\games.json\");\n",
    "System.IO.File.WriteAllText(@\"E:\\Projects\\my_collection\\games.json\", json);"
   ]
  }
 ],
 "metadata": {
  "kernelspec": {
   "display_name": ".NET (C#)",
   "language": "C#",
   "name": ".net-csharp"
  },
  "language_info": {
   "file_extension": ".cs",
   "mimetype": "text/x-csharp",
   "name": "C#",
   "pygments_lexer": "csharp",
   "version": "9.0"
  },
  "orig_nbformat": 4
 },
 "nbformat": 4,
 "nbformat_minor": 2
}
